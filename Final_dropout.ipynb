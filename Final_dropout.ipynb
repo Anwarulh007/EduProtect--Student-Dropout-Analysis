{
  "cells": [
    {
      "cell_type": "code",
      "source": [
        "from google.colab import drive\n",
        "drive.mount('/content/drive')"
      ],
      "metadata": {
        "colab": {
          "base_uri": "https://localhost:8080/"
        },
        "id": "DrAR-BBbeaRd",
        "outputId": "d6e68ea9-0270-442a-ee54-4917db164941"
      },
      "execution_count": null,
      "outputs": [
        {
          "output_type": "stream",
          "name": "stdout",
          "text": [
            "Mounted at /content/drive\n"
          ]
        }
      ]
    },
    {
      "cell_type": "code",
      "source": [
        "import pandas as pd\n",
        "from sklearn.model_selection import train_test_split\n",
        "from sklearn.ensemble import RandomForestClassifier\n",
        "from sklearn.metrics import accuracy_score\n",
        "from sklearn.preprocessing import LabelEncoder"
      ],
      "metadata": {
        "id": "WJpHwnSCfZAP"
      },
      "execution_count": null,
      "outputs": []
    },
    {
      "cell_type": "code",
      "source": [
        "data = pd.read_csv('/content/drive/MyDrive/database/SIH-Dataset.csv')\n",
        "\n",
        "data = data.drop(columns=[\"Student_ID\", \"Dropout_Reason\", \"School_Name\"], axis=1)\n",
        "data.head()\n",
        "\n",
        "# Encode the target variable 'Dropout_Status' to 0 or 1\n",
        "le = LabelEncoder()\n",
        "data['Dropout_Status'] = le.fit_transform(data['Dropout_Status'])\n",
        "\n",
        "# Select categorical columns (all columns except 'Dropout_Status')\n",
        "categorical_cols = data.columns.drop('Dropout_Status')\n",
        "categorical_cols\n",
        "\n",
        "# Apply one-hot encoding to categorical columns\n",
        "data = pd.get_dummies(data, columns=categorical_cols, drop_first=True)\n",
        "\n",
        "X = data.drop('Dropout_Status', axis=1)\n",
        "y = data['Dropout_Status']\n",
        "\n",
        "# Split the data into training and testing sets (80% training, 20% testing)\n",
        "X_train, X_test, y_train, y_test = train_test_split(X, y, test_size=0.2, random_state=42)\n",
        "\n",
        "# Build and train a Random Forest Classifier\n",
        "model = RandomForestClassifier(random_state=42)\n",
        "model.fit(X_train, y_train)\n",
        "\n",
        "# Make predictions on the testing data\n",
        "y_pred = model.predict(X_test)\n",
        "\n",
        "# Calculate accuracy\n",
        "accuracy = accuracy_score(y_test, y_pred)\n",
        "print(f'Accuracy: {accuracy * 100:.2f}%')"
      ],
      "metadata": {
        "colab": {
          "base_uri": "https://localhost:8080/"
        },
        "id": "EMtkhUwofPOc",
        "outputId": "77e49a1d-d8e2-417e-9fd3-e30b7c6e3f0b"
      },
      "execution_count": null,
      "outputs": [
        {
          "output_type": "stream",
          "name": "stdout",
          "text": [
            "Accuracy: 94.66%\n"
          ]
        }
      ]
    },
    {
      "cell_type": "code",
      "execution_count": null,
      "metadata": {
        "colab": {
          "base_uri": "https://localhost:8080/"
        },
        "id": "Wesou6D6dDXW",
        "outputId": "d746d3dd-b685-46c9-ac7e-3e7f60d0252c"
      },
      "outputs": [
        {
          "output_type": "stream",
          "name": "stdout",
          "text": [
            "\n",
            "Enter student details to calculate dropout probability:\n",
            "School Name: hello\n",
            "Location: Urban\n",
            "Gender: Male\n",
            "Caste: General\n",
            "Age: 14\n",
            "Standard: 8\n",
            "Socioeconomic Status: High\n",
            "Estimated dropout probability: 86.63%\n"
          ]
        }
      ],
      "source": [
        "# Input student details to calculate dropout probability\n",
        "print(\"\\nEnter student details to calculate dropout probability:\")\n",
        "school_name = input(\"School Name: \")\n",
        "location = input(\"Location: \")\n",
        "gender = input(\"Gender: \")\n",
        "caste = input(\"Caste: \")\n",
        "age = int(input(\"Age: \"))\n",
        "standard = input(\"Standard: \")\n",
        "socioeconomic_status = input(\"Socioeconomic Status: \")\n",
        "\n",
        "# Create a DataFrame for the input data with all categorical columns\n",
        "input_data = pd.DataFrame({'Location': [location], 'Gender': [gender],\n",
        "                           'Caste': [caste], 'Age': [age], 'Standard': [standard],\n",
        "                           'Socioeconomic_Status': [socioeconomic_status]})\n",
        "\n",
        "# Apply one-hot encoding to the input data\n",
        "input_data = pd.get_dummies(input_data, columns=['Location', 'Gender', 'Caste', 'Age','Standard', 'Socioeconomic_Status'], drop_first=True)\n",
        "\n",
        "# Ensure that input data columns match the model's columns in the correct order\n",
        "missing_columns = list(set(X.columns) - set(input_data.columns))\n",
        "input_data = input_data.reindex(columns=X.columns, fill_value=0)\n",
        "\n",
        "# Predict dropout probability\n",
        "dropout_probability = model.predict_proba(input_data)[0][1] * 100\n",
        "\n",
        "print(f\"Estimated dropout probability: {dropout_probability:.2f}%\")"
      ]
    }
  ],
  "metadata": {
    "colab": {
      "provenance": []
    },
    "kernelspec": {
      "display_name": "Python 3",
      "name": "python3"
    },
    "language_info": {
      "name": "python"
    }
  },
  "nbformat": 4,
  "nbformat_minor": 0
}